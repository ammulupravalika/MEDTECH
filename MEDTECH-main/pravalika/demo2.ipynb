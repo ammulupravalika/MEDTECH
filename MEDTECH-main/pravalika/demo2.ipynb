{
 "cells": [
  {
   "cell_type": "code",
   "execution_count": 1,
   "metadata": {},
   "outputs": [],
   "source": [
    "import requests\n",
    "from bs4 import BeautifulSoup\n",
    "import difflib\n",
    "import pandas as pd"
   ]
  },
  {
   "cell_type": "code",
   "execution_count": 2,
   "metadata": {},
   "outputs": [],
   "source": [
    "dt=pd.read_csv('data/clean/medicines_list.csv')"
   ]
  },
  {
   "cell_type": "code",
   "execution_count": 24,
   "metadata": {},
   "outputs": [],
   "source": [
    "url_def = \"https://www.apollopharmacy.in/search-medicines/\"\n",
    "search = input()\n",
    "if \" \" in search:\n",
    "    search = search.replace(' ','')\n",
    "url1 = url_def + search"
   ]
  },
  {
   "cell_type": "code",
   "execution_count": 25,
   "metadata": {},
   "outputs": [
    {
     "data": {
      "text/plain": [
       "'dolo'"
      ]
     },
     "execution_count": 25,
     "metadata": {},
     "output_type": "execute_result"
    }
   ],
   "source": [
    "search"
   ]
  },
  {
   "cell_type": "code",
   "execution_count": 26,
   "metadata": {},
   "outputs": [],
   "source": [
    "response1 = requests.get(url1)\n",
    "soup1 = BeautifulSoup(response1.content, \"html.parser\")\n",
    "links = soup1.find_all(\"a\",class_=\"ProductCard_proDesMain__LWq_f\")"
   ]
  },
  {
   "cell_type": "code",
   "execution_count": 27,
   "metadata": {},
   "outputs": [],
   "source": [
    "a=[]\n",
    "\n",
    "for link in links:\n",
    "    if link.get(\"href\"):\n",
    "        res_links=link.get(\"href\")\n",
    "        a.append(res_links)"
   ]
  },
  {
   "cell_type": "code",
   "execution_count": 28,
   "metadata": {},
   "outputs": [
    {
     "data": {
      "text/plain": [
       "['/otc/dolo-650mg-tablet-15-s?doNotTrack=true',\n",
       " '/otc/dolo-500mg-tablet?doNotTrack=true',\n",
       " '/otc/dolo-500-tablet-10-s?doNotTrack=true',\n",
       " '/otc/dolo-250mg-syrup?doNotTrack=true',\n",
       " '/medicine/new-dolo-cold-tablet?doNotTrack=true',\n",
       " '/otc/dolo-drops-15ml?doNotTrack=true',\n",
       " '/otc/dolo-120-mg-suspension-60-ml?doNotTrack=true',\n",
       " '/otc/dolo-suspension-60-ml?doNotTrack=true',\n",
       " '/medicine/dolo-th-4-tab-10-s?doNotTrack=true',\n",
       " '/medicine/dolo-iv-100ml?doNotTrack=true',\n",
       " '/medicine/dolo-mf-susp-60ml?doNotTrack=true',\n",
       " '/otc/dolo-pain-relief-spray-55g?doNotTrack=true',\n",
       " '/medicine/dolo-mf-junior-suspenstion-60ml?doNotTrack=true',\n",
       " '/otc/dolo-ivg-1-infusion-1000mg-100ml?doNotTrack=true',\n",
       " '/otc/dolo-156-25-mg-syrup-60-ml?doNotTrack=true',\n",
       " '/medicine/nvm-dolo-tab?doNotTrack=true',\n",
       " '/otc/dolo-pain-relief-spray-35-gm?doNotTrack=true',\n",
       " '/medicine/dolo-t-tab-10-s?doNotTrack=true',\n",
       " '/otc/dolopar-650mg-tablet?doNotTrack=true',\n",
       " '/otc/dologel-ct-ointment-10gm?doNotTrack=true',\n",
       " '/otc/dologel-oral-gel-15gm?doNotTrack=true',\n",
       " '/medicine/dolokind-plus-tablet-15-s?doNotTrack=true',\n",
       " '/medicine/dolocold-syrup-60ml?doNotTrack=true']"
      ]
     },
     "execution_count": 28,
     "metadata": {},
     "output_type": "execute_result"
    }
   ],
   "source": [
    "a"
   ]
  },
  {
   "cell_type": "code",
   "execution_count": null,
   "metadata": {},
   "outputs": [],
   "source": [
    "# b=[]\n",
    "# for i in a:\n",
    "#     b.append(i.split('/')[2].split('?')[0])"
   ]
  },
  {
   "cell_type": "code",
   "execution_count": 29,
   "metadata": {},
   "outputs": [],
   "source": [
    "b=[]\n",
    "for i in a:\n",
    "    b.append(i.split('?')[0])"
   ]
  },
  {
   "cell_type": "code",
   "execution_count": 30,
   "metadata": {},
   "outputs": [
    {
     "data": {
      "text/plain": [
       "['/otc/dolo-650mg-tablet-15-s',\n",
       " '/otc/dolo-500mg-tablet',\n",
       " '/otc/dolo-500-tablet-10-s',\n",
       " '/otc/dolo-250mg-syrup',\n",
       " '/medicine/new-dolo-cold-tablet',\n",
       " '/otc/dolo-drops-15ml',\n",
       " '/otc/dolo-120-mg-suspension-60-ml',\n",
       " '/otc/dolo-suspension-60-ml',\n",
       " '/medicine/dolo-th-4-tab-10-s',\n",
       " '/medicine/dolo-iv-100ml',\n",
       " '/medicine/dolo-mf-susp-60ml',\n",
       " '/otc/dolo-pain-relief-spray-55g',\n",
       " '/medicine/dolo-mf-junior-suspenstion-60ml',\n",
       " '/otc/dolo-ivg-1-infusion-1000mg-100ml',\n",
       " '/otc/dolo-156-25-mg-syrup-60-ml',\n",
       " '/medicine/nvm-dolo-tab',\n",
       " '/otc/dolo-pain-relief-spray-35-gm',\n",
       " '/medicine/dolo-t-tab-10-s',\n",
       " '/otc/dolopar-650mg-tablet',\n",
       " '/otc/dologel-ct-ointment-10gm',\n",
       " '/otc/dologel-oral-gel-15gm',\n",
       " '/medicine/dolokind-plus-tablet-15-s',\n",
       " '/medicine/dolocold-syrup-60ml']"
      ]
     },
     "execution_count": 30,
     "metadata": {},
     "output_type": "execute_result"
    }
   ],
   "source": [
    "b"
   ]
  },
  {
   "cell_type": "code",
   "execution_count": 31,
   "metadata": {},
   "outputs": [],
   "source": [
    "c=[]\n",
    "c=difflib.get_close_matches(search,b,4,0.2)"
   ]
  },
  {
   "cell_type": "code",
   "execution_count": 32,
   "metadata": {},
   "outputs": [
    {
     "data": {
      "text/plain": [
       "['/otc/dolo-drops-15ml',\n",
       " '/otc/dolo-250mg-syrup',\n",
       " '/otc/dolo-500mg-tablet',\n",
       " '/medicine/nvm-dolo-tab']"
      ]
     },
     "execution_count": 32,
     "metadata": {},
     "output_type": "execute_result"
    }
   ],
   "source": [
    "c"
   ]
  },
  {
   "cell_type": "code",
   "execution_count": null,
   "metadata": {},
   "outputs": [],
   "source": [
    "url_def2 = \"https://www.apollopharmacy.in\"\n",
    "url_inp = str(b[0])\n",
    "\n",
    "url2 = url_def2 + url_inp\n",
    "\n",
    "\n"
   ]
  },
  {
   "cell_type": "code",
   "execution_count": null,
   "metadata": {},
   "outputs": [],
   "source": [
    "url2"
   ]
  },
  {
   "cell_type": "code",
   "execution_count": null,
   "metadata": {},
   "outputs": [],
   "source": [
    "response2 = requests.get(url2)\n",
    "\n",
    "# Parse the HTML content\n",
    "soup2 = BeautifulSoup(response2.content, \"html.parser\")\n",
    "\n",
    "\n",
    "elements = soup2.find_all(class_=\"PdpWeb_productDetailed__cgtqy\")\n"
   ]
  },
  {
   "cell_type": "code",
   "execution_count": null,
   "metadata": {},
   "outputs": [],
   "source": [
    "elements2 = soup2.find_all(class_=\"ProductDetailsGeneric_txtListing__d7bk_\")"
   ]
  },
  {
   "cell_type": "code",
   "execution_count": null,
   "metadata": {},
   "outputs": [],
   "source": [
    "elements3 = soup2.find_all(class_=\"text-align-justify\")"
   ]
  },
  {
   "cell_type": "code",
   "execution_count": null,
   "metadata": {},
   "outputs": [],
   "source": []
  },
  {
   "cell_type": "code",
   "execution_count": null,
   "metadata": {},
   "outputs": [],
   "source": [
    "d=[]\n",
    "for element in elements3:\n",
    "    d.append(element.text)\n"
   ]
  },
  {
   "cell_type": "code",
   "execution_count": null,
   "metadata": {},
   "outputs": [],
   "source": [
    "d[0]"
   ]
  },
  {
   "cell_type": "code",
   "execution_count": null,
   "metadata": {},
   "outputs": [],
   "source": [
    "d[4]"
   ]
  },
  {
   "cell_type": "code",
   "execution_count": null,
   "metadata": {},
   "outputs": [],
   "source": [
    "print(\"You can Find more Information here \"+url2)"
   ]
  }
 ],
 "metadata": {
  "kernelspec": {
   "display_name": "base",
   "language": "python",
   "name": "python3"
  },
  "language_info": {
   "codemirror_mode": {
    "name": "ipython",
    "version": 3
   },
   "file_extension": ".py",
   "mimetype": "text/x-python",
   "name": "python",
   "nbconvert_exporter": "python",
   "pygments_lexer": "ipython3",
   "version": "3.9.12"
  },
  "orig_nbformat": 4,
  "vscode": {
   "interpreter": {
    "hash": "b675168525ba0a932ead71e7b882d73c655b942e699b01c95318e9e6721acfe6"
   }
  }
 },
 "nbformat": 4,
 "nbformat_minor": 2
}
